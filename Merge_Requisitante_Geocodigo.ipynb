{
  "nbformat": 4,
  "nbformat_minor": 0,
  "metadata": {
    "colab": {
      "name": "Untitled3.ipynb",
      "provenance": [],
      "authorship_tag": "ABX9TyMANX2BBpoaOaBcXq9FIejR",
      "include_colab_link": true
    },
    "kernelspec": {
      "name": "python3",
      "display_name": "Python 3"
    }
  },
  "cells": [
    {
      "cell_type": "markdown",
      "metadata": {
        "id": "view-in-github",
        "colab_type": "text"
      },
      "source": [
        "<a href=\"https://colab.research.google.com/github/MsouzaLeo/TFG-ETL/blob/master/Merge_Requisitante_Geocodigo.ipynb\" target=\"_parent\"><img src=\"https://colab.research.google.com/assets/colab-badge.svg\" alt=\"Open In Colab\"/></a>"
      ]
    },
    {
      "cell_type": "code",
      "metadata": {
        "id": "qioLUn8NH-FD"
      },
      "source": [
        "import pandas as pd\r\n",
        "\r\n",
        "dfmuni = pd.read_csv('Tabela_Municipios_Atualizada.csv', encoding='cp1252', low_memory=False, sep=';')\r\n",
        "dfmuni = dfmuni[['GEOCODIGO', 'NOME_MUNICIPIO']]\r\n",
        "dfmuni"
      ],
      "execution_count": null,
      "outputs": []
    },
    {
      "cell_type": "code",
      "metadata": {
        "id": "pDyqLcTFI_Oz"
      },
      "source": [
        "dfreq = pd.read_csv('Unidades requisitantes_SEPARANDO.csv', sep=';', encoding='utf8',low_memory=False)\r\n",
        "dfreq = dfreq[['cod_unidade_requisitante','comarca_da_unidade','tipo_unidade','subordinacao','unidade', 'Municipios', 'GEOCODIGO']]\r\n",
        "dfreq.columns = ['cod_unidade_requisitante','comarca_da_unidade','tipo_unidade','subordinacao','unidade', 'NOME_MUNICIPIO', 'GEOCODIGO']\r\n",
        "dfreq['NOME_MUNICIPIO'] = dfreq['NOME_MUNICIPIO'].str.upper()"
      ],
      "execution_count": null,
      "outputs": []
    },
    {
      "cell_type": "code",
      "metadata": {
        "id": "5QyxXW14OqGf"
      },
      "source": [
        "output = pd.merge(dfmuni, dfreq, on='NOME_MUNICIPIO', how='right')\r\n",
        "output['GEOCODIGO_x'] = output['GEOCODIGO_x'].fillna('0')\r\n",
        "output['GEOCODIGO_x'] = output['GEOCODIGO_x'].astype('int32')\r\n",
        "output.head(20)"
      ],
      "execution_count": null,
      "outputs": []
    },
    {
      "cell_type": "code",
      "metadata": {
        "id": "l5L0uhHHSTlv"
      },
      "source": [
        "output.to_csv(r'sample_data\\export_dataframe.csv', index = False, encoding='cp1252',sep=';')"
      ],
      "execution_count": null,
      "outputs": []
    }
  ]
}