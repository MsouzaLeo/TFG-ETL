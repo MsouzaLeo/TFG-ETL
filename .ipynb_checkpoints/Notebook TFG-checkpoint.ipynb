{
 "cells": [
  {
   "cell_type": "markdown",
   "metadata": {},
   "source": [
    "## ETL Process"
   ]
  },
  {
   "cell_type": "markdown",
   "metadata": {},
   "source": [
    "Importando as bibliotecas"
   ]
  },
  {
   "cell_type": "code",
   "execution_count": 106,
   "metadata": {
    "scrolled": true
   },
   "outputs": [],
   "source": [
    "import pandas as pd\n",
    "import seaborn as sns\n",
    "import matplotlib as plt"
   ]
  },
  {
   "cell_type": "markdown",
   "metadata": {},
   "source": [
    "Lendo arquivo csv e guardando no dataframe tab_mes"
   ]
  },
  {
   "cell_type": "code",
   "execution_count": 10,
   "metadata": {},
   "outputs": [],
   "source": [
    "tab_mes = pd.read_csv('IC_Janeiro_2020.csv', sep=';', encoding='cp1252')"
   ]
  },
  {
   "cell_type": "markdown",
   "metadata": {},
   "source": [
    "Limpando o Dataframe original, separando somente os dados que serão uteis"
   ]
  },
  {
   "cell_type": "code",
   "execution_count": 7,
   "metadata": {},
   "outputs": [],
   "source": [
    "dados_uteis = tab_mes[['Número da Requisição',\n",
    "       'Tipo da Requisição', 'Número do Procedimento', 'Código modelo laudo',\n",
    "       'Código da natureza do exame', 'Natureza do exame',\n",
    "       'Código da espécie do exame', 'Espécie do exame',\n",
    "       'Código da unidade do exame', 'Unidade do exame',\n",
    "       'Código da unidade requisitante', 'Unidade requisitante',\n",
    "       'Data da requisição de perícia','Data de distribuição da requisição',\n",
    "        'Data da redistribuição','Data da devolução da requisição',\n",
    "       'Data do aceite da requisição','Data da expedição do laudo',\n",
    "        'MASP/matrícula do perito responsável']]"
   ]
  },
  {
   "cell_type": "markdown",
   "metadata": {},
   "source": [
    "Contagem de quantos laudos para cada tipo de quisição no DF"
   ]
  },
  {
   "cell_type": "code",
   "execution_count": 14,
   "metadata": {},
   "outputs": [
    {
     "data": {
      "text/plain": [
       "EXPEDIENTE            18227\n",
       "FAEP                   2939\n",
       "COMPLEMENTAR            931\n",
       "ESCLARECIMENTO_CDL        7\n",
       "Name: Tipo da Requisição, dtype: int64"
      ]
     },
     "execution_count": 14,
     "metadata": {},
     "output_type": "execute_result"
    }
   ],
   "source": [
    "dados_uteis['Tipo da Requisição'].value_counts()"
   ]
  },
  {
   "cell_type": "markdown",
   "metadata": {},
   "source": [
    "Número de laudos para cada código da natureza do exame"
   ]
  },
  {
   "cell_type": "code",
   "execution_count": 33,
   "metadata": {},
   "outputs": [
    {
     "data": {
      "text/plain": [
       "163     1059\n",
       "165      239\n",
       "167    10946\n",
       "168       64\n",
       "169       36\n",
       "170     2826\n",
       "171      493\n",
       "172        7\n",
       "173      328\n",
       "174      604\n",
       "175      339\n",
       "176      244\n",
       "177      392\n",
       "197     2552\n",
       "217      481\n",
       "237      355\n",
       "257       30\n",
       "317     1109\n",
       "Name: Código da natureza do exame, dtype: int64"
      ]
     },
     "execution_count": 33,
     "metadata": {},
     "output_type": "execute_result"
    }
   ],
   "source": [
    "dados_uteis['Código da natureza do exame'].value_counts().sort_index()"
   ]
  },
  {
   "cell_type": "markdown",
   "metadata": {},
   "source": [
    "Número de laudos com a natureza do exame igual a \"Vida\" em cada unidade de exame"
   ]
  },
  {
   "cell_type": "code",
   "execution_count": 116,
   "metadata": {},
   "outputs": [
    {
     "data": {
      "text/plain": [
       "STP CRIMES CONTRA A VIDA/IC                        150\n",
       "POSTO DE PERICIA INTEGRADA/BETIM                    32\n",
       "POSTO DE PERICIA INTEGRADA/VESPASIANO               24\n",
       "POSTO DE PERICIA INTEGRADA/GOVERNADOR VALADARES     20\n",
       "POSTO DE PERICIA INTEGRADA/MANHUACU                 17\n",
       "                                                  ... \n",
       "POSTO DE PERICIA INTEGRADA/CARATINGA                 2\n",
       "POSTO DE PERICIA INTEGRADA/LEOPOLDINA                1\n",
       "POSTO DE PERICIA INTEGRADA/CAPELINHA                 1\n",
       "POSTO DE PERICIA INTEGRADA/SAO LOURENCO              1\n",
       "POSTO DE PERICIA INTEGRADA/BOM DESPACHO              1\n",
       "Name: Unidade do exame, Length: 63, dtype: int64"
      ]
     },
     "execution_count": 116,
     "metadata": {},
     "output_type": "execute_result"
    }
   ],
   "source": [
    "dados_uteis[dados_uteis['Natureza do exame'] == 'Vida']['Unidade do exame'].value_counts()\n",
    " "
   ]
  },
  {
   "cell_type": "markdown",
   "metadata": {},
   "source": [
    "Guardado quais são todos os código de natureza dos exames e quais os nomes das naturezas dos exames"
   ]
  },
  {
   "cell_type": "code",
   "execution_count": 137,
   "metadata": {},
   "outputs": [
    {
     "data": {
      "text/html": [
       "<div>\n",
       "<style scoped>\n",
       "    .dataframe tbody tr th:only-of-type {\n",
       "        vertical-align: middle;\n",
       "    }\n",
       "\n",
       "    .dataframe tbody tr th {\n",
       "        vertical-align: top;\n",
       "    }\n",
       "\n",
       "    .dataframe thead th {\n",
       "        text-align: right;\n",
       "    }\n",
       "</style>\n",
       "<table border=\"1\" class=\"dataframe\">\n",
       "  <thead>\n",
       "    <tr style=\"text-align: right;\">\n",
       "      <th></th>\n",
       "      <th>Código da natureza do exame</th>\n",
       "      <th>Natureza do exame</th>\n",
       "    </tr>\n",
       "  </thead>\n",
       "  <tbody>\n",
       "    <tr>\n",
       "      <th>0</th>\n",
       "      <td>163</td>\n",
       "      <td>Patrimônio</td>\n",
       "    </tr>\n",
       "    <tr>\n",
       "      <th>1</th>\n",
       "      <td>177</td>\n",
       "      <td>Áudio, Vídeo e Fonética</td>\n",
       "    </tr>\n",
       "    <tr>\n",
       "      <th>2</th>\n",
       "      <td>167</td>\n",
       "      <td>Quimica</td>\n",
       "    </tr>\n",
       "    <tr>\n",
       "      <th>3</th>\n",
       "      <td>237</td>\n",
       "      <td>Metalográfico e Identificação Veicular</td>\n",
       "    </tr>\n",
       "    <tr>\n",
       "      <th>4</th>\n",
       "      <td>176</td>\n",
       "      <td>Meio Ambiente</td>\n",
       "    </tr>\n",
       "    <tr>\n",
       "      <th>5</th>\n",
       "      <td>174</td>\n",
       "      <td>Vida</td>\n",
       "    </tr>\n",
       "    <tr>\n",
       "      <th>6</th>\n",
       "      <td>197</td>\n",
       "      <td>Merceologia</td>\n",
       "    </tr>\n",
       "    <tr>\n",
       "      <th>7</th>\n",
       "      <td>175</td>\n",
       "      <td>Trânsito</td>\n",
       "    </tr>\n",
       "    <tr>\n",
       "      <th>8</th>\n",
       "      <td>171</td>\n",
       "      <td>Informática</td>\n",
       "    </tr>\n",
       "    <tr>\n",
       "      <th>9</th>\n",
       "      <td>168</td>\n",
       "      <td>Engenharia</td>\n",
       "    </tr>\n",
       "    <tr>\n",
       "      <th>10</th>\n",
       "      <td>170</td>\n",
       "      <td>Balística</td>\n",
       "    </tr>\n",
       "    <tr>\n",
       "      <th>11</th>\n",
       "      <td>317</td>\n",
       "      <td>Comparecimento</td>\n",
       "    </tr>\n",
       "    <tr>\n",
       "      <th>12</th>\n",
       "      <td>165</td>\n",
       "      <td>Biologia</td>\n",
       "    </tr>\n",
       "    <tr>\n",
       "      <th>13</th>\n",
       "      <td>217</td>\n",
       "      <td>Balística/Patrimônio</td>\n",
       "    </tr>\n",
       "    <tr>\n",
       "      <th>14</th>\n",
       "      <td>172</td>\n",
       "      <td>Contabilidade</td>\n",
       "    </tr>\n",
       "    <tr>\n",
       "      <th>15</th>\n",
       "      <td>173</td>\n",
       "      <td>Documentoscopia</td>\n",
       "    </tr>\n",
       "    <tr>\n",
       "      <th>16</th>\n",
       "      <td>169</td>\n",
       "      <td>Papiloscopia</td>\n",
       "    </tr>\n",
       "    <tr>\n",
       "      <th>17</th>\n",
       "      <td>257</td>\n",
       "      <td>Vistorias para o DETRAN</td>\n",
       "    </tr>\n",
       "  </tbody>\n",
       "</table>\n",
       "</div>"
      ],
      "text/plain": [
       "    Código da natureza do exame                       Natureza do exame\n",
       "0                           163                              Patrimônio\n",
       "1                           177                 Áudio, Vídeo e Fonética\n",
       "2                           167                                 Quimica\n",
       "3                           237  Metalográfico e Identificação Veicular\n",
       "4                           176                           Meio Ambiente\n",
       "5                           174                                    Vida\n",
       "6                           197                             Merceologia\n",
       "7                           175                                Trânsito\n",
       "8                           171                             Informática\n",
       "9                           168                              Engenharia\n",
       "10                          170                               Balística\n",
       "11                          317                          Comparecimento\n",
       "12                          165                                Biologia\n",
       "13                          217                    Balística/Patrimônio\n",
       "14                          172                           Contabilidade\n",
       "15                          173                         Documentoscopia\n",
       "16                          169                            Papiloscopia\n",
       "17                          257                 Vistorias para o DETRAN"
      ]
     },
     "execution_count": 137,
     "metadata": {},
     "output_type": "execute_result"
    }
   ],
   "source": [
    "nome_natureza = dados_uteis['Natureza do exame'].unique()\n",
    "codigo_natureza = dados_uteis['Código da natureza do exame'].unique()\n",
    "natureza = pd.DataFrame({'Código da natureza do exame': codigo_natureza, 'Natureza do exame': nome_natureza})\n",
    "natureza"
   ]
  },
  {
   "cell_type": "markdown",
   "metadata": {},
   "source": [
    "Guardado quais são todos os código de espécie dos exames e quais os nomes das espécies dos exames"
   ]
  },
  {
   "cell_type": "code",
   "execution_count": 138,
   "metadata": {},
   "outputs": [
    {
     "data": {
      "text/html": [
       "<div>\n",
       "<style scoped>\n",
       "    .dataframe tbody tr th:only-of-type {\n",
       "        vertical-align: middle;\n",
       "    }\n",
       "\n",
       "    .dataframe tbody tr th {\n",
       "        vertical-align: top;\n",
       "    }\n",
       "\n",
       "    .dataframe thead th {\n",
       "        text-align: right;\n",
       "    }\n",
       "</style>\n",
       "<table border=\"1\" class=\"dataframe\">\n",
       "  <thead>\n",
       "    <tr style=\"text-align: right;\">\n",
       "      <th></th>\n",
       "      <th>Código da espécie do exame</th>\n",
       "      <th>Espécie do exame</th>\n",
       "    </tr>\n",
       "  </thead>\n",
       "  <tbody>\n",
       "    <tr>\n",
       "      <th>0</th>\n",
       "      <td>228</td>\n",
       "      <td>Levantamento pericial em local de roubo/furto</td>\n",
       "    </tr>\n",
       "    <tr>\n",
       "      <th>1</th>\n",
       "      <td>186</td>\n",
       "      <td>Constatação do crime de dano (art. 163) em obj...</td>\n",
       "    </tr>\n",
       "    <tr>\n",
       "      <th>2</th>\n",
       "      <td>83</td>\n",
       "      <td>Análise de conteúdo em registros audiovisuais</td>\n",
       "    </tr>\n",
       "    <tr>\n",
       "      <th>3</th>\n",
       "      <td>119</td>\n",
       "      <td>Exame preliminar de drogas de abuso</td>\n",
       "    </tr>\n",
       "    <tr>\n",
       "      <th>4</th>\n",
       "      <td>114</td>\n",
       "      <td>Análise químico metalográfica e Identificação ...</td>\n",
       "    </tr>\n",
       "    <tr>\n",
       "      <th>...</th>\n",
       "      <td>...</td>\n",
       "      <td>...</td>\n",
       "    </tr>\n",
       "    <tr>\n",
       "      <th>95</th>\n",
       "      <td>229</td>\n",
       "      <td>Reprodução simulada em local de furto ou roubo</td>\n",
       "    </tr>\n",
       "    <tr>\n",
       "      <th>96</th>\n",
       "      <td>68</td>\n",
       "      <td>Verificação/Identificação de locutor em regist...</td>\n",
       "    </tr>\n",
       "    <tr>\n",
       "      <th>97</th>\n",
       "      <td>567</td>\n",
       "      <td>Exame em materiais e apetrechos utilizados em ...</td>\n",
       "    </tr>\n",
       "    <tr>\n",
       "      <th>98</th>\n",
       "      <td>307</td>\n",
       "      <td>Levantamento pericial em local onde ocorreu al...</td>\n",
       "    </tr>\n",
       "    <tr>\n",
       "      <th>99</th>\n",
       "      <td>306</td>\n",
       "      <td>Levantamento pericial em local onde ocorreu fu...</td>\n",
       "    </tr>\n",
       "  </tbody>\n",
       "</table>\n",
       "<p>100 rows × 2 columns</p>\n",
       "</div>"
      ],
      "text/plain": [
       "    Código da espécie do exame  \\\n",
       "0                          228   \n",
       "1                          186   \n",
       "2                           83   \n",
       "3                          119   \n",
       "4                          114   \n",
       "..                         ...   \n",
       "95                         229   \n",
       "96                          68   \n",
       "97                         567   \n",
       "98                         307   \n",
       "99                         306   \n",
       "\n",
       "                                     Espécie do exame  \n",
       "0       Levantamento pericial em local de roubo/furto  \n",
       "1   Constatação do crime de dano (art. 163) em obj...  \n",
       "2       Análise de conteúdo em registros audiovisuais  \n",
       "3                 Exame preliminar de drogas de abuso  \n",
       "4   Análise químico metalográfica e Identificação ...  \n",
       "..                                                ...  \n",
       "95     Reprodução simulada em local de furto ou roubo  \n",
       "96  Verificação/Identificação de locutor em regist...  \n",
       "97  Exame em materiais e apetrechos utilizados em ...  \n",
       "98  Levantamento pericial em local onde ocorreu al...  \n",
       "99  Levantamento pericial em local onde ocorreu fu...  \n",
       "\n",
       "[100 rows x 2 columns]"
      ]
     },
     "execution_count": 138,
     "metadata": {},
     "output_type": "execute_result"
    }
   ],
   "source": [
    "'Código da espécie do exame', 'Espécie do exame',\n",
    "nome_especie = dados_uteis['Espécie do exame'].unique()\n",
    "codigo_especie = dados_uteis['Código da espécie do exame'].unique()\n",
    "especie = pd.DataFrame({'Código da espécie do exame': codigo_especie, 'Espécie do exame': nome_especie})\n",
    "especie"
   ]
  }
 ],
 "metadata": {
  "kernelspec": {
   "display_name": "Python 3",
   "language": "python",
   "name": "python3"
  },
  "language_info": {
   "codemirror_mode": {
    "name": "ipython",
    "version": 3
   },
   "file_extension": ".py",
   "mimetype": "text/x-python",
   "name": "python",
   "nbconvert_exporter": "python",
   "pygments_lexer": "ipython3",
   "version": "3.8.3"
  }
 },
 "nbformat": 4,
 "nbformat_minor": 4
}
